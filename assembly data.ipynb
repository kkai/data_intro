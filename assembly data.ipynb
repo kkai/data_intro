{
 "metadata": {
  "name": "assembly data"
 },
 "nbformat": 3,
 "nbformat_minor": 0,
 "worksheets": [
  {
   "cells": [
    {
     "cell_type": "markdown",
     "metadata": {},
     "source": [
      "#Motion Data\n",
      "The assembly.dat file contains a recording done from a assembly session.\n",
      "\n",
      "A person was doing the following activities: \n",
      "\n",
      "* hammering in nails (label 1)\n",
      "* screwdring (label 2)\n",
      "* sandpapering (label 3)\n",
      "* sawing (label 4)\n",
      "\n",
      "Label 0 is for doing none of the activities above. The sensor is attached to the subjects right wrist (x axis pointing towards the fingers). \n",
      "The sensor was sampled with 100 Hz, it's raw sensor data (not calibrated). The data structure of the file is shown in the header of the file."
     ]
    },
    {
     "cell_type": "markdown",
     "metadata": {},
     "source": [
      "##Import the data\n",
      "The file uses tabs as separators and we need to skip 11 rows (the description of the content). \n",
      "Also we need to give the desciription for each column in the names variable."
     ]
    },
    {
     "cell_type": "code",
     "collapsed": false,
     "input": [
      "from pandas import read_csv\n",
      "data = read_csv('./data/assembly.dat',delimiter='\\t',skiprows=11,names=['s','usec','ax','ay','az','gx','gy','gz','mx','my','mz','label'])"
     ],
     "language": "python",
     "metadata": {},
     "outputs": [],
     "prompt_number": 51
    },
    {
     "cell_type": "code",
     "collapsed": false,
     "input": [
      "#to get an overview of the data you can use describe in pandas\n",
      "data[['ax','ay','az']].describe()"
     ],
     "language": "python",
     "metadata": {},
     "outputs": [],
     "prompt_number": 52
    },
    {
     "cell_type": "code",
     "collapsed": false,
     "input": [
      "data[['gx','gy','gz']].plot()"
     ],
     "language": "python",
     "metadata": {},
     "outputs": [],
     "prompt_number": 53
    },
    {
     "cell_type": "code",
     "collapsed": false,
     "input": [
      "data[['ax','ay','az']].plot()"
     ],
     "language": "python",
     "metadata": {},
     "outputs": [],
     "prompt_number": 54
    },
    {
     "cell_type": "markdown",
     "metadata": {},
     "source": [
      "#Feature Caluclation and Selection\n",
      "In the next step we will take the gyro data and calculate some features on the them."
     ]
    },
    {
     "cell_type": "code",
     "collapsed": false,
     "input": [
      "gyro_hammer = data[data['label']==1][['gx','gy','gz']]\n",
      "gyro_screw = data[data['label']==2][['gx','gy','gz']]\n",
      "gyro_sand = data[data['label']==3][['gx','gy','gz']]\n",
      "gyro_saw = data[data['label']==4][['gx','gy','gz']]"
     ],
     "language": "python",
     "metadata": {},
     "outputs": [],
     "prompt_number": 55
    },
    {
     "cell_type": "code",
     "collapsed": false,
     "input": [
      "#gyro_hammer.plot()\n",
      "#gyro_screw.plot()\n",
      "#gyro_sand.plot()\n",
      "#gyro_saw.plot()"
     ],
     "language": "python",
     "metadata": {},
     "outputs": [],
     "prompt_number": 56
    },
    {
     "cell_type": "code",
     "collapsed": false,
     "input": [
      "from pandas.stats.moments import rolling_apply\n",
      "print size(gyro_screw)/20.0\n",
      "\n",
      "method = median \n",
      "wsize = 25\n",
      "\n",
      "feat1 = rolling_apply(gyro_screw, wsize, method).dropna()\n",
      "feat2 = rolling_apply(gyro_hammer,wsize, method).dropna()\n",
      "feat3 = rolling_apply(gyro_sand, wsize, method).dropna()\n",
      "feat4 = rolling_apply(gyro_saw, wsize, method).dropna()\n",
      "\n",
      "\n"
     ],
     "language": "python",
     "metadata": {},
     "outputs": [
      {
       "output_type": "stream",
       "stream": "stdout",
       "text": [
        "291.0\n"
       ]
      }
     ],
     "prompt_number": 72
    },
    {
     "cell_type": "code",
     "collapsed": false,
     "input": [
      "scatter(feat1['gz'], feat1['gx'])\n",
      "scatter(feat2['gz'], feat2['gx'],color='red')\n",
      "scatter(feat3['gz'], feat3['gx'],color='green')\n",
      "scatter(feat4['gz'], feat4['gx'],color='yellow')"
     ],
     "language": "python",
     "metadata": {},
     "outputs": [],
     "prompt_number": 85
    },
    {
     "cell_type": "markdown",
     "metadata": {},
     "source": [
      "#Classification\n",
      "In the following we will try how good our features are to automatically classify the different activities."
     ]
    },
    {
     "cell_type": "code",
     "collapsed": false,
     "input": [
      "#don't look here ... I split the data in test and training set\n",
      "#bad code :)\n",
      "\n",
      "l_1 = len(feat1)\n",
      "l_2 = len(feat2)\n",
      "l_3 = len(feat3)\n",
      "l_4 = len(feat4)\n",
      "\n",
      "#X = feat1.append(feat2).append(feat3).append(feat4)\n",
      "#Y = [1.0] * l_1 + [2.0]* l_2 + [3] * l_3 + [4] * l_4\n",
      "\n",
      "X = feat1[0:l_1/2].append(feat2[0:l_2/2]).append(feat3[0:l_3/2]).append(feat4[0:l_4/2])\n",
      "Y = [1]*(l_1/2) + [2]*(l_2/2)+[3]*(l_3/2) + [4]*(l_4/2)\n",
      "\n",
      "T = feat1[l_1/2:l_1].append(feat2[l_2/2:l_2]).append(feat3[l_3/2:l_3]).append(feat4[l_4/2:l_4])\n",
      "t_gg = [1]*len(feat1[l_1/2:l_1]) + [2]*len(feat2[l_2/2:l_2]) + [3]*len(feat3[l_3/2:l_3]) + [4]*len(feat1[l_4/2:l_4])"
     ],
     "language": "python",
     "metadata": {},
     "outputs": [],
     "prompt_number": 74
    },
    {
     "cell_type": "code",
     "collapsed": false,
     "input": [
      "from sklearn.neighbors import KNeighborsClassifier\n",
      "from sklearn.tree import DecisionTreeClassifier\n",
      "\n",
      "neigh = KNeighborsClassifier(n_neighbors=3)\n",
      "dt = DecisionTreeClassifier()\n",
      "\n",
      "dt.fit(X,Y)\n",
      "res = dt.predict(T)\n",
      "plot(res+0.2, 'r.')\n",
      "plot(t_gg, 'b.')\n",
      "\n",
      "\n",
      "print dt.score(T, t_gg)\n"
     ],
     "language": "python",
     "metadata": {},
     "outputs": [
      {
       "output_type": "stream",
       "stream": "stdout",
       "text": [
        "0.695166063795\n"
       ]
      }
     ],
     "prompt_number": 80
    },
    {
     "cell_type": "code",
     "collapsed": false,
     "input": [
      "from sklearn.utils import shuffle\n",
      "from sklearn.cross_validation import StratifiedKFold, cross_val_score\n",
      "\n",
      "Xn, yn = shuffle(T, t_gg)\n",
      "skf = StratifiedKFold(yn, 10)\n",
      "print cross_val_score(dt, Xn, yn, cv=skf)"
     ],
     "language": "python",
     "metadata": {},
     "outputs": [
      {
       "output_type": "stream",
       "stream": "stdout",
       "text": [
        "[ 0.93770492  0.89144737  0.9375      0.92434211  0.91776316  0.94407895\n",
        "  0.91776316  0.91776316  0.89802632  0.90131579]\n"
       ]
      }
     ],
     "prompt_number": 82
    },
    {
     "cell_type": "code",
     "collapsed": false,
     "input": [
      "from StringIO import StringIO\n",
      "from sklearn import tree\n",
      "f =tree.export_graphviz(dt, out_file='tree.dot')\n",
      "f.close()"
     ],
     "language": "python",
     "metadata": {},
     "outputs": [],
     "prompt_number": 84
    }
   ],
   "metadata": {}
  }
 ]
}