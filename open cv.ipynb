{
 "metadata": {
  "name": "open cv"
 },
 "nbformat": 3,
 "nbformat_minor": 0,
 "worksheets": [
  {
   "cells": [
    {
     "cell_type": "code",
     "collapsed": false,
     "input": [
      "import cv\n",
      "imcolor = cv.LoadImage('game_of_thrones_2151576b.jpg') # input image\n",
      "# loading the classifiers\n",
      "haarFace = cv.Load('haarcascade_frontalface_default.xml')\n",
      "haarEyes = cv.Load('haarcascade_eye.xml')\n",
      "# running the classifiers\n",
      "storage = cv.CreateMemStorage()\n",
      "detectedFace = cv.HaarDetectObjects(imcolor, haarFace, storage)\n",
      "detectedEyes = cv.HaarDetectObjects(imcolor, haarEyes, storage)\n",
      "\n",
      "# draw a green rectangle where the face is detected\n",
      "if detectedFace:\n",
      " for face in detectedFace:\n",
      "  cv.Rectangle(imcolor,(face[0][0],face[0][1]),\n",
      "               (face[0][0]+face[0][2],face[0][1]+face[0][3]),\n",
      "               cv.RGB(155, 255, 25),2)\n",
      "\n",
      "# draw a purple rectangle where the eye is detected\n",
      "if detectedEyes:\n",
      " for face in detectedEyes:\n",
      "  cv.Rectangle(imcolor,(face[0][0],face[0][1]),\n",
      "               (face[0][0]+face[0][2],face[0][1]+face[0][3]),\n",
      "               cv.RGB(155, 55, 200),2)\n",
      "\n",
      "cv.NamedWindow('Face Detection', cv.CV_WINDOW_AUTOSIZE)\n",
      "cv.ShowImage('Face Detection', imcolor) \n",
      "cv.WaitKey()"
     ],
     "language": "python",
     "metadata": {},
     "outputs": [],
     "prompt_number": "*"
    },
    {
     "cell_type": "code",
     "collapsed": false,
     "input": [],
     "language": "python",
     "metadata": {},
     "outputs": []
    }
   ],
   "metadata": {}
  }
 ]
}